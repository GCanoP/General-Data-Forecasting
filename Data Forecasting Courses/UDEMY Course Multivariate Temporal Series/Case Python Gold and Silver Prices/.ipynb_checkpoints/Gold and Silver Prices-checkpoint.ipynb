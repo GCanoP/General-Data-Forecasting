{
 "cells": [
  {
   "cell_type": "markdown",
   "id": "18343446",
   "metadata": {},
   "source": [
    "# Steps to Create a VAR Model with Multivariate Temporal Series.\n",
    "\n",
    "1. Exploratory Data Analysis.\n",
    "2. Split into Test / Training Sets.\n",
    "3. Stationarity Test.\n",
    "4. Transform Data (If Requiered).\n",
    "5. Create the VAR Model. \n",
    "6. Test the Granger Causality. \n",
    "7. Evaluate the VAR Model. \n",
    "8. Make Predictions with the Previos Selected Model. \n",
    "9. Inverse Transform (If Requiered).\n",
    "10. Evaluate Predictions. "
   ]
  },
  {
   "cell_type": "markdown",
   "id": "24127a91",
   "metadata": {},
   "source": [
    "## Data : Yahoo Finance"
   ]
  },
  {
   "cell_type": "code",
   "execution_count": null,
   "id": "58626743",
   "metadata": {},
   "outputs": [],
   "source": []
  }
 ],
 "metadata": {
  "kernelspec": {
   "display_name": "Python 3 (ipykernel)",
   "language": "python",
   "name": "python3"
  },
  "language_info": {
   "codemirror_mode": {
    "name": "ipython",
    "version": 3
   },
   "file_extension": ".py",
   "mimetype": "text/x-python",
   "name": "python",
   "nbconvert_exporter": "python",
   "pygments_lexer": "ipython3",
   "version": "3.8.15"
  },
  "toc": {
   "base_numbering": 1,
   "nav_menu": {},
   "number_sections": true,
   "sideBar": true,
   "skip_h1_title": false,
   "title_cell": "Table of Contents",
   "title_sidebar": "Contents",
   "toc_cell": false,
   "toc_position": {},
   "toc_section_display": true,
   "toc_window_display": true
  },
  "varInspector": {
   "cols": {
    "lenName": 16,
    "lenType": 16,
    "lenVar": 40
   },
   "kernels_config": {
    "python": {
     "delete_cmd_postfix": "",
     "delete_cmd_prefix": "del ",
     "library": "var_list.py",
     "varRefreshCmd": "print(var_dic_list())"
    },
    "r": {
     "delete_cmd_postfix": ") ",
     "delete_cmd_prefix": "rm(",
     "library": "var_list.r",
     "varRefreshCmd": "cat(var_dic_list()) "
    }
   },
   "types_to_exclude": [
    "module",
    "function",
    "builtin_function_or_method",
    "instance",
    "_Feature"
   ],
   "window_display": false
  }
 },
 "nbformat": 4,
 "nbformat_minor": 5
}
